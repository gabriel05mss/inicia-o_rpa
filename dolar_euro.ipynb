{
 "cells": [
  {
   "cell_type": "code",
   "execution_count": 1,
   "id": "3c130101-fda7-400b-8d29-fd599d714cac",
   "metadata": {},
   "outputs": [
    {
     "name": "stdout",
     "output_type": "stream",
     "text": [
      "Collecting selenium\n",
      "  Downloading selenium-4.19.0-py3-none-any.whl.metadata (6.9 kB)\n",
      "Requirement already satisfied: urllib3<3,>=1.26 in c:\\users\\gmore\\anaconda3\\lib\\site-packages (from urllib3[socks]<3,>=1.26->selenium) (2.0.7)\n",
      "Collecting trio~=0.17 (from selenium)\n",
      "  Downloading trio-0.25.0-py3-none-any.whl.metadata (8.7 kB)\n",
      "Collecting trio-websocket~=0.9 (from selenium)\n",
      "  Downloading trio_websocket-0.11.1-py3-none-any.whl.metadata (4.7 kB)\n",
      "Requirement already satisfied: certifi>=2021.10.8 in c:\\users\\gmore\\anaconda3\\lib\\site-packages (from selenium) (2024.2.2)\n",
      "Requirement already satisfied: typing_extensions>=4.9.0 in c:\\users\\gmore\\anaconda3\\lib\\site-packages (from selenium) (4.9.0)\n",
      "Collecting attrs>=23.2.0 (from trio~=0.17->selenium)\n",
      "  Downloading attrs-23.2.0-py3-none-any.whl.metadata (9.5 kB)\n",
      "Requirement already satisfied: sortedcontainers in c:\\users\\gmore\\anaconda3\\lib\\site-packages (from trio~=0.17->selenium) (2.4.0)\n",
      "Requirement already satisfied: idna in c:\\users\\gmore\\anaconda3\\lib\\site-packages (from trio~=0.17->selenium) (3.4)\n",
      "Collecting outcome (from trio~=0.17->selenium)\n",
      "  Downloading outcome-1.3.0.post0-py2.py3-none-any.whl.metadata (2.6 kB)\n",
      "Requirement already satisfied: sniffio>=1.3.0 in c:\\users\\gmore\\anaconda3\\lib\\site-packages (from trio~=0.17->selenium) (1.3.0)\n",
      "Requirement already satisfied: cffi>=1.14 in c:\\users\\gmore\\anaconda3\\lib\\site-packages (from trio~=0.17->selenium) (1.16.0)\n",
      "Collecting wsproto>=0.14 (from trio-websocket~=0.9->selenium)\n",
      "  Downloading wsproto-1.2.0-py3-none-any.whl.metadata (5.6 kB)\n",
      "Requirement already satisfied: pysocks!=1.5.7,<2.0,>=1.5.6 in c:\\users\\gmore\\anaconda3\\lib\\site-packages (from urllib3[socks]<3,>=1.26->selenium) (1.7.1)\n",
      "Requirement already satisfied: pycparser in c:\\users\\gmore\\anaconda3\\lib\\site-packages (from cffi>=1.14->trio~=0.17->selenium) (2.21)\n",
      "Collecting h11<1,>=0.9.0 (from wsproto>=0.14->trio-websocket~=0.9->selenium)\n",
      "  Downloading h11-0.14.0-py3-none-any.whl.metadata (8.2 kB)\n",
      "Downloading selenium-4.19.0-py3-none-any.whl (10.5 MB)\n",
      "   ---------------------------------------- 0.0/10.5 MB ? eta -:--:--\n",
      "   ---------------------------------------- 0.1/10.5 MB 3.2 MB/s eta 0:00:04\n",
      "   -- ------------------------------------- 0.6/10.5 MB 7.0 MB/s eta 0:00:02\n",
      "   ------ --------------------------------- 1.6/10.5 MB 12.5 MB/s eta 0:00:01\n",
      "   ----------- ---------------------------- 3.0/10.5 MB 17.4 MB/s eta 0:00:01\n",
      "   --------------- ------------------------ 4.2/10.5 MB 19.0 MB/s eta 0:00:01\n",
      "   -------------------- ------------------- 5.3/10.5 MB 20.0 MB/s eta 0:00:01\n",
      "   ------------------------ --------------- 6.4/10.5 MB 21.6 MB/s eta 0:00:01\n",
      "   --------------------------- ------------ 7.3/10.5 MB 21.1 MB/s eta 0:00:01\n",
      "   ------------------------------- -------- 8.3/10.5 MB 21.1 MB/s eta 0:00:01\n",
      "   ------------------------------------- -- 9.9/10.5 MB 23.4 MB/s eta 0:00:01\n",
      "   ---------------------------------------  10.5/10.5 MB 27.3 MB/s eta 0:00:01\n",
      "   ---------------------------------------- 10.5/10.5 MB 25.2 MB/s eta 0:00:00\n",
      "Downloading trio-0.25.0-py3-none-any.whl (467 kB)\n",
      "   ---------------------------------------- 0.0/467.2 kB ? eta -:--:--\n",
      "   --------------------------------------- 467.2/467.2 kB 28.6 MB/s eta 0:00:00\n",
      "Downloading trio_websocket-0.11.1-py3-none-any.whl (17 kB)\n",
      "Downloading attrs-23.2.0-py3-none-any.whl (60 kB)\n",
      "   ---------------------------------------- 0.0/60.8 kB ? eta -:--:--\n",
      "   ---------------------------------------- 60.8/60.8 kB ? eta 0:00:00\n",
      "Downloading wsproto-1.2.0-py3-none-any.whl (24 kB)\n",
      "Downloading outcome-1.3.0.post0-py2.py3-none-any.whl (10 kB)\n",
      "Downloading h11-0.14.0-py3-none-any.whl (58 kB)\n",
      "   ---------------------------------------- 0.0/58.3 kB ? eta -:--:--\n",
      "   ---------------------------------------- 58.3/58.3 kB 3.0 MB/s eta 0:00:00\n",
      "Installing collected packages: h11, attrs, wsproto, outcome, trio, trio-websocket, selenium\n",
      "  Attempting uninstall: attrs\n",
      "    Found existing installation: attrs 23.1.0\n",
      "    Uninstalling attrs-23.1.0:\n",
      "      Successfully uninstalled attrs-23.1.0\n",
      "Successfully installed attrs-23.2.0 h11-0.14.0 outcome-1.3.0.post0 selenium-4.19.0 trio-0.25.0 trio-websocket-0.11.1 wsproto-1.2.0\n"
     ]
    }
   ],
   "source": [
    "!pip install selenium"
   ]
  },
  {
   "cell_type": "code",
   "execution_count": 22,
   "id": "fdd3eb4f-888f-4ea5-9c4d-fe55acb0fe05",
   "metadata": {},
   "outputs": [
    {
     "name": "stdout",
     "output_type": "stream",
     "text": [
      "valor do dolar hoje: 5,28\n",
      "valor do euro hoje: 5,61\n"
     ]
    }
   ],
   "source": [
    "from selenium.webdriver.common.keys import Keys\n",
    "import pyautogui as tempopausa\n",
    "import pyautogui as tecla\n",
    "from selenium.webdriver.common.by import By\n",
    "from selenium import webdriver\n",
    "abrirnavegador = webdriver.Chrome()\n",
    "abrirnavegador.get('https://www.google.com.br/?hl=pt-BR')\n",
    "\n",
    "tempopausa.sleep(2)\n",
    "abrirnavegador.find_element(By.NAME, \"q\").send_keys('dolar hoje')\n",
    "tempopausa.sleep(2)\n",
    "abrirnavegador.find_element(By.NAME, \"q\").send_keys(Keys.RETURN)\n",
    "tempopausa.sleep(2)\n",
    "valordolargoogle = abrirnavegador.find_elements(By.XPATH, '//*[@id=\"knowledge-currency__updatable-data-column\"]/div[1]/div[2]/span[1]')[0].text\n",
    "print(\"valor do dolar hoje:\",valordolargoogle)\n",
    "#--------\n",
    "abrirnavegador.find_element(By.NAME, \"q\").send_keys(\"\")\n",
    "tecla.press('tab')\n",
    "tecla.press('enter')\n",
    "tempopausa.sleep(2)\n",
    "abrirnavegador.find_element(By.NAME, \"q\").send_keys('euro hoje')\n",
    "tempopausa.sleep(2)\n",
    "abrirnavegador.find_element(By.NAME, \"q\").send_keys(Keys.RETURN)\n",
    "tempopausa.sleep(2)\n",
    "valoreurogoogle = abrirnavegador.find_elements(By.XPATH, '//*[@id=\"knowledge-currency__updatable-data-column\"]/div[1]/div[2]/span[1]')[0].text\n",
    "print(\"valor do euro hoje:\",valoreurogoogle)\n"
   ]
  },
  {
   "cell_type": "code",
   "execution_count": null,
   "id": "fd82a02e-ef67-40d4-8e67-523d295a8ce9",
   "metadata": {},
   "outputs": [],
   "source": []
  }
 ],
 "metadata": {
  "kernelspec": {
   "display_name": "Python 3 (ipykernel)",
   "language": "python",
   "name": "python3"
  },
  "language_info": {
   "codemirror_mode": {
    "name": "ipython",
    "version": 3
   },
   "file_extension": ".py",
   "mimetype": "text/x-python",
   "name": "python",
   "nbconvert_exporter": "python",
   "pygments_lexer": "ipython3",
   "version": "3.11.7"
  }
 },
 "nbformat": 4,
 "nbformat_minor": 5
}
